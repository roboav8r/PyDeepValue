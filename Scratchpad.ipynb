{
 "cells": [
  {
   "cell_type": "markdown",
   "id": "6cff340e",
   "metadata": {},
   "source": [
    "# Test data downloading with yahooquery"
   ]
  },
  {
   "cell_type": "code",
   "execution_count": 1,
   "id": "24af6607",
   "metadata": {},
   "outputs": [
    {
     "name": "stdout",
     "output_type": "stream",
     "text": [
      "yahooquery version:  2.3.0\n",
      "requests version:  2.28.2\n",
      "urllib3 version:  1.26.14\n"
     ]
    }
   ],
   "source": [
    "import yahooquery\n",
    "import requests\n",
    "import urllib3\n",
    "\n",
    "print('yahooquery version: ', yahooquery.__version__)\n",
    "print('requests version: ', requests.__version__)\n",
    "print('urllib3 version: ', urllib3.__version__)"
   ]
  },
  {
   "cell_type": "code",
   "execution_count": 16,
   "id": "73c07da7",
   "metadata": {},
   "outputs": [],
   "source": [
    "aapl = yahooquery.Ticker('aapl')\n",
    "\n",
    "fin_data = aapl.all_financial_data()\n",
    "modules = 'summaryDetail price defaultKeyStatistics'\n",
    "company_info = aapl.get_modules(modules)"
   ]
  },
  {
   "cell_type": "code",
   "execution_count": 17,
   "id": "404a569f",
   "metadata": {},
   "outputs": [
    {
     "data": {
      "text/plain": [
       "{'aapl': {'summaryDetail': {'maxAge': 1,\n",
       "   'priceHint': 2,\n",
       "   'previousClose': 153.71,\n",
       "   'open': 152.35,\n",
       "   'dayLow': 150.85,\n",
       "   'dayHigh': 153.0,\n",
       "   'regularMarketPreviousClose': 153.71,\n",
       "   'regularMarketOpen': 152.35,\n",
       "   'regularMarketDayLow': 150.85,\n",
       "   'regularMarketDayHigh': 153.0,\n",
       "   'dividendRate': 0.92,\n",
       "   'dividendYield': 0.006,\n",
       "   'exDividendDate': '2023-02-09 18:00:00',\n",
       "   'payoutRatio': 0.1545,\n",
       "   'fiveYearAvgDividendYield': 0.96,\n",
       "   'beta': 1.277894,\n",
       "   'trailingPE': 25.899832,\n",
       "   'forwardPE': 23.183891,\n",
       "   'volume': 59144118,\n",
       "   'regularMarketVolume': 59144118,\n",
       "   'averageVolume': 75166090,\n",
       "   'averageVolume10days': 64755690,\n",
       "   'averageDailyVolume10Day': 64755690,\n",
       "   'bid': 152.56,\n",
       "   'ask': 152.64,\n",
       "   'bidSize': 1000,\n",
       "   'askSize': 2200,\n",
       "   'marketCap': 2413630849024,\n",
       "   'fiftyTwoWeekLow': 124.17,\n",
       "   'fiftyTwoWeekHigh': 179.61,\n",
       "   'priceToSalesTrailing12Months': 6.22813,\n",
       "   'fiftyDayAverage': 140.098,\n",
       "   'twoHundredDayAverage': 147.39375,\n",
       "   'trailingAnnualDividendRate': 0.91,\n",
       "   'trailingAnnualDividendYield': 0.0059202393,\n",
       "   'currency': 'USD',\n",
       "   'fromCurrency': None,\n",
       "   'toCurrency': None,\n",
       "   'lastMarket': None,\n",
       "   'coinMarketCapLink': None,\n",
       "   'algorithm': None,\n",
       "   'tradeable': False},\n",
       "  'defaultKeyStatistics': {'maxAge': 1,\n",
       "   'priceHint': 2,\n",
       "   'enterpriseValue': 2473392865280,\n",
       "   'forwardPE': 23.183891,\n",
       "   'profitMargins': 0.24558,\n",
       "   'floatShares': 15775271259,\n",
       "   'sharesOutstanding': 15821899776,\n",
       "   'sharesShort': 115480341,\n",
       "   'sharesShortPriorMonth': 124024570,\n",
       "   'sharesShortPreviousMonthDate': '2022-12-29 18:00:00',\n",
       "   'dateShortInterest': '2023-01-30 18:00:00',\n",
       "   'sharesPercentSharesOut': 0.0073,\n",
       "   'heldPercentInsiders': 0.00074,\n",
       "   'heldPercentInstitutions': 0.61355996,\n",
       "   'shortRatio': 1.6,\n",
       "   'shortPercentOfFloat': 0.0073,\n",
       "   'beta': 1.277894,\n",
       "   'impliedSharesOutstanding': 0,\n",
       "   'category': None,\n",
       "   'bookValue': 3.581,\n",
       "   'priceToBook': 42.59983,\n",
       "   'fundFamily': None,\n",
       "   'legalType': None,\n",
       "   'lastFiscalYearEnd': '2022-09-23 19:00:00',\n",
       "   'nextFiscalYearEnd': '2023-09-23 19:00:00',\n",
       "   'mostRecentQuarter': '2022-12-30 18:00:00',\n",
       "   'earningsQuarterlyGrowth': -0.134,\n",
       "   'netIncomeToCommon': 95171002368,\n",
       "   'trailingEps': 5.89,\n",
       "   'forwardEps': 6.58,\n",
       "   'pegRatio': 3.17,\n",
       "   'lastSplitFactor': '4:1',\n",
       "   'lastSplitDate': '2020-08-30 19:00:00',\n",
       "   'enterpriseToRevenue': 6.382,\n",
       "   'enterpriseToEbitda': 19.742,\n",
       "   '52WeekChange': -0.07162851,\n",
       "   'SandP52WeekChange': -0.052423358,\n",
       "   'lastDividendValue': 0.23,\n",
       "   'lastDividendDate': 1675987200},\n",
       "  'price': {'maxAge': 1,\n",
       "   'preMarketSource': 'FREE_REALTIME',\n",
       "   'postMarketChangePercent': 0.00058994646,\n",
       "   'postMarketChange': 0.08999634,\n",
       "   'postMarketTime': '2023-02-17 18:59:57',\n",
       "   'postMarketPrice': 152.64,\n",
       "   'postMarketSource': 'DELAYED',\n",
       "   'regularMarketChangePercent': -0.0075467024,\n",
       "   'regularMarketChange': -1.1600037,\n",
       "   'regularMarketTime': '2023-02-17 15:00:04',\n",
       "   'priceHint': 2,\n",
       "   'regularMarketPrice': 152.55,\n",
       "   'regularMarketDayHigh': 153.0,\n",
       "   'regularMarketDayLow': 150.85,\n",
       "   'regularMarketVolume': 59144118,\n",
       "   'averageDailyVolume10Day': 64755690,\n",
       "   'averageDailyVolume3Month': 75166090,\n",
       "   'regularMarketPreviousClose': 153.71,\n",
       "   'regularMarketSource': 'FREE_REALTIME',\n",
       "   'regularMarketOpen': 152.35,\n",
       "   'exchange': 'NMS',\n",
       "   'exchangeName': 'NasdaqGS',\n",
       "   'exchangeDataDelayedBy': 0,\n",
       "   'marketState': 'CLOSED',\n",
       "   'quoteType': 'EQUITY',\n",
       "   'symbol': 'AAPL',\n",
       "   'underlyingSymbol': None,\n",
       "   'shortName': 'Apple Inc.',\n",
       "   'longName': 'Apple Inc.',\n",
       "   'currency': 'USD',\n",
       "   'quoteSourceName': 'Delayed Quote',\n",
       "   'currencySymbol': '$',\n",
       "   'fromCurrency': None,\n",
       "   'toCurrency': None,\n",
       "   'lastMarket': None,\n",
       "   'marketCap': 2413630849024}}}"
      ]
     },
     "execution_count": 17,
     "metadata": {},
     "output_type": "execute_result"
    }
   ],
   "source": [
    "company_info"
   ]
  },
  {
   "cell_type": "code",
   "execution_count": 11,
   "id": "79345273",
   "metadata": {},
   "outputs": [
    {
     "ename": "TypeError",
     "evalue": "__init__() got an unexpected keyword argument 'allowed_methods'",
     "output_type": "error",
     "traceback": [
      "\u001b[0;31m---------------------------------------------------------------------------\u001b[0m",
      "\u001b[0;31mTypeError\u001b[0m                                 Traceback (most recent call last)",
      "Cell \u001b[0;32mIn [11], line 7\u001b[0m\n\u001b[1;32m      3\u001b[0m \u001b[38;5;66;03m# for symbol in symbols:\u001b[39;00m\n\u001b[1;32m      4\u001b[0m \u001b[38;5;66;03m# Output \u001b[39;00m\n\u001b[1;32m      5\u001b[0m symbols \u001b[38;5;241m=\u001b[39m \u001b[38;5;124m'\u001b[39m\u001b[38;5;124mfb aapl amzn nflx goog\u001b[39m\u001b[38;5;124m'\u001b[39m\n\u001b[0;32m----> 7\u001b[0m tickers \u001b[38;5;241m=\u001b[39m \u001b[43mTicker\u001b[49m\u001b[43m(\u001b[49m\u001b[43msymbols\u001b[49m\u001b[43m)\u001b[49m\n\u001b[1;32m      8\u001b[0m current_time \u001b[38;5;241m=\u001b[39m datetime\u001b[38;5;241m.\u001b[39mnow()\n",
      "File \u001b[0;32m~/.local/lib/python3.8/site-packages/yahooquery/ticker.py:90\u001b[0m, in \u001b[0;36mTicker.__init__\u001b[0;34m(self, symbols, **kwargs)\u001b[0m\n\u001b[1;32m     89\u001b[0m \u001b[38;5;28;01mdef\u001b[39;00m \u001b[38;5;21m__init__\u001b[39m(\u001b[38;5;28mself\u001b[39m, symbols, \u001b[38;5;241m*\u001b[39m\u001b[38;5;241m*\u001b[39mkwargs):\n\u001b[0;32m---> 90\u001b[0m     \u001b[38;5;28;43msuper\u001b[39;49m\u001b[43m(\u001b[49m\u001b[43mTicker\u001b[49m\u001b[43m,\u001b[49m\u001b[43m \u001b[49m\u001b[38;5;28;43mself\u001b[39;49m\u001b[43m)\u001b[49m\u001b[38;5;241;43m.\u001b[39;49m\u001b[38;5;21;43m__init__\u001b[39;49m\u001b[43m(\u001b[49m\u001b[38;5;241;43m*\u001b[39;49m\u001b[38;5;241;43m*\u001b[39;49m\u001b[43mkwargs\u001b[49m\u001b[43m)\u001b[49m\n\u001b[1;32m     91\u001b[0m     \u001b[38;5;28mself\u001b[39m\u001b[38;5;241m.\u001b[39msymbols \u001b[38;5;241m=\u001b[39m symbols\n\u001b[1;32m     92\u001b[0m     \u001b[38;5;28mself\u001b[39m\u001b[38;5;241m.\u001b[39minvalid_symbols \u001b[38;5;241m=\u001b[39m \u001b[38;5;28;01mNone\u001b[39;00m\n",
      "File \u001b[0;32m~/.local/lib/python3.8/site-packages/yahooquery/base.py:929\u001b[0m, in \u001b[0;36m_YahooFinance.__init__\u001b[0;34m(self, **kwargs)\u001b[0m\n\u001b[1;32m    927\u001b[0m \u001b[38;5;28mself\u001b[39m\u001b[38;5;241m.\u001b[39mcountry \u001b[38;5;241m=\u001b[39m kwargs\u001b[38;5;241m.\u001b[39mget(\u001b[38;5;124m\"\u001b[39m\u001b[38;5;124mcountry\u001b[39m\u001b[38;5;124m\"\u001b[39m, \u001b[38;5;124m\"\u001b[39m\u001b[38;5;124munited states\u001b[39m\u001b[38;5;124m\"\u001b[39m)\u001b[38;5;241m.\u001b[39mlower()\n\u001b[1;32m    928\u001b[0m \u001b[38;5;28mself\u001b[39m\u001b[38;5;241m.\u001b[39mformatted \u001b[38;5;241m=\u001b[39m kwargs\u001b[38;5;241m.\u001b[39mpop(\u001b[38;5;124m\"\u001b[39m\u001b[38;5;124mformatted\u001b[39m\u001b[38;5;124m\"\u001b[39m, \u001b[38;5;28;01mFalse\u001b[39;00m)\n\u001b[0;32m--> 929\u001b[0m \u001b[38;5;28mself\u001b[39m\u001b[38;5;241m.\u001b[39msession \u001b[38;5;241m=\u001b[39m \u001b[43m_init_session\u001b[49m\u001b[43m(\u001b[49m\u001b[43mkwargs\u001b[49m\u001b[38;5;241;43m.\u001b[39;49m\u001b[43mpop\u001b[49m\u001b[43m(\u001b[49m\u001b[38;5;124;43m\"\u001b[39;49m\u001b[38;5;124;43msession\u001b[39;49m\u001b[38;5;124;43m\"\u001b[39;49m\u001b[43m,\u001b[49m\u001b[43m \u001b[49m\u001b[38;5;28;43;01mNone\u001b[39;49;00m\u001b[43m)\u001b[49m\u001b[43m,\u001b[49m\u001b[43m \u001b[49m\u001b[38;5;241;43m*\u001b[39;49m\u001b[38;5;241;43m*\u001b[39;49m\u001b[43mkwargs\u001b[49m\u001b[43m)\u001b[49m\n\u001b[1;32m    930\u001b[0m \u001b[38;5;28mself\u001b[39m\u001b[38;5;241m.\u001b[39mcrumb \u001b[38;5;241m=\u001b[39m kwargs\u001b[38;5;241m.\u001b[39mpop(\u001b[38;5;124m\"\u001b[39m\u001b[38;5;124mcrumb\u001b[39m\u001b[38;5;124m\"\u001b[39m, \u001b[38;5;28;01mNone\u001b[39;00m)\n\u001b[1;32m    931\u001b[0m \u001b[38;5;28mself\u001b[39m\u001b[38;5;241m.\u001b[39mprogress \u001b[38;5;241m=\u001b[39m kwargs\u001b[38;5;241m.\u001b[39mpop(\u001b[38;5;124m\"\u001b[39m\u001b[38;5;124mprogress\u001b[39m\u001b[38;5;124m\"\u001b[39m, \u001b[38;5;28;01mFalse\u001b[39;00m)\n",
      "File \u001b[0;32m~/.local/lib/python3.8/site-packages/yahooquery/utils/__init__.py:60\u001b[0m, in \u001b[0;36m_init_session\u001b[0;34m(session, **kwargs)\u001b[0m\n\u001b[1;32m     58\u001b[0m \u001b[38;5;28;01mif\u001b[39;00m kwargs\u001b[38;5;241m.\u001b[39mget(\u001b[38;5;124m\"\u001b[39m\u001b[38;5;124mproxies\u001b[39m\u001b[38;5;124m\"\u001b[39m):\n\u001b[1;32m     59\u001b[0m     session\u001b[38;5;241m.\u001b[39mproxies \u001b[38;5;241m=\u001b[39m kwargs\u001b[38;5;241m.\u001b[39mget(\u001b[38;5;124m\"\u001b[39m\u001b[38;5;124mproxies\u001b[39m\u001b[38;5;124m\"\u001b[39m)\n\u001b[0;32m---> 60\u001b[0m retries \u001b[38;5;241m=\u001b[39m \u001b[43mRetry\u001b[49m\u001b[43m(\u001b[49m\n\u001b[1;32m     61\u001b[0m \u001b[43m    \u001b[49m\u001b[43mtotal\u001b[49m\u001b[38;5;241;43m=\u001b[39;49m\u001b[43mkwargs\u001b[49m\u001b[38;5;241;43m.\u001b[39;49m\u001b[43mget\u001b[49m\u001b[43m(\u001b[49m\u001b[38;5;124;43m\"\u001b[39;49m\u001b[38;5;124;43mretry\u001b[39;49m\u001b[38;5;124;43m\"\u001b[39;49m\u001b[43m,\u001b[49m\u001b[43m \u001b[49m\u001b[38;5;241;43m5\u001b[39;49m\u001b[43m)\u001b[49m\u001b[43m,\u001b[49m\n\u001b[1;32m     62\u001b[0m \u001b[43m    \u001b[49m\u001b[43mbackoff_factor\u001b[49m\u001b[38;5;241;43m=\u001b[39;49m\u001b[43mkwargs\u001b[49m\u001b[38;5;241;43m.\u001b[39;49m\u001b[43mget\u001b[49m\u001b[43m(\u001b[49m\u001b[38;5;124;43m\"\u001b[39;49m\u001b[38;5;124;43mbackoff_factor\u001b[39;49m\u001b[38;5;124;43m\"\u001b[39;49m\u001b[43m,\u001b[49m\u001b[43m \u001b[49m\u001b[38;5;241;43m0.3\u001b[39;49m\u001b[43m)\u001b[49m\u001b[43m,\u001b[49m\n\u001b[1;32m     63\u001b[0m \u001b[43m    \u001b[49m\u001b[43mstatus_forcelist\u001b[49m\u001b[38;5;241;43m=\u001b[39;49m\u001b[43mkwargs\u001b[49m\u001b[38;5;241;43m.\u001b[39;49m\u001b[43mget\u001b[49m\u001b[43m(\u001b[49m\u001b[38;5;124;43m\"\u001b[39;49m\u001b[38;5;124;43mstatus_forcelist\u001b[39;49m\u001b[38;5;124;43m\"\u001b[39;49m\u001b[43m,\u001b[49m\u001b[43m \u001b[49m\u001b[43m[\u001b[49m\u001b[38;5;241;43m429\u001b[39;49m\u001b[43m,\u001b[49m\u001b[43m \u001b[49m\u001b[38;5;241;43m500\u001b[39;49m\u001b[43m,\u001b[49m\u001b[43m \u001b[49m\u001b[38;5;241;43m502\u001b[39;49m\u001b[43m,\u001b[49m\u001b[43m \u001b[49m\u001b[38;5;241;43m503\u001b[39;49m\u001b[43m,\u001b[49m\u001b[43m \u001b[49m\u001b[38;5;241;43m504\u001b[39;49m\u001b[43m]\u001b[49m\u001b[43m)\u001b[49m\u001b[43m,\u001b[49m\n\u001b[1;32m     64\u001b[0m \u001b[43m    \u001b[49m\u001b[43mallowed_methods\u001b[49m\u001b[38;5;241;43m=\u001b[39;49m\u001b[43m[\u001b[49m\u001b[38;5;124;43m\"\u001b[39;49m\u001b[38;5;124;43mHEAD\u001b[39;49m\u001b[38;5;124;43m\"\u001b[39;49m\u001b[43m,\u001b[49m\u001b[43m \u001b[49m\u001b[38;5;124;43m\"\u001b[39;49m\u001b[38;5;124;43mGET\u001b[39;49m\u001b[38;5;124;43m\"\u001b[39;49m\u001b[43m,\u001b[49m\u001b[43m \u001b[49m\u001b[38;5;124;43m\"\u001b[39;49m\u001b[38;5;124;43mOPTIONS\u001b[39;49m\u001b[38;5;124;43m\"\u001b[39;49m\u001b[43m,\u001b[49m\u001b[43m \u001b[49m\u001b[38;5;124;43m\"\u001b[39;49m\u001b[38;5;124;43mPOST\u001b[39;49m\u001b[38;5;124;43m\"\u001b[39;49m\u001b[43m,\u001b[49m\u001b[43m \u001b[49m\u001b[38;5;124;43m\"\u001b[39;49m\u001b[38;5;124;43mTRACE\u001b[39;49m\u001b[38;5;124;43m\"\u001b[39;49m\u001b[43m]\u001b[49m\u001b[43m,\u001b[49m\n\u001b[1;32m     65\u001b[0m \u001b[43m\u001b[49m\u001b[43m)\u001b[49m\n\u001b[1;32m     66\u001b[0m \u001b[38;5;28;01mif\u001b[39;00m kwargs\u001b[38;5;241m.\u001b[39mget(\u001b[38;5;124m\"\u001b[39m\u001b[38;5;124mverify\u001b[39m\u001b[38;5;124m\"\u001b[39m) \u001b[38;5;129;01mis\u001b[39;00m \u001b[38;5;129;01mnot\u001b[39;00m \u001b[38;5;28;01mNone\u001b[39;00m:\n\u001b[1;32m     67\u001b[0m     session\u001b[38;5;241m.\u001b[39mverify \u001b[38;5;241m=\u001b[39m kwargs\u001b[38;5;241m.\u001b[39mget(\u001b[38;5;124m\"\u001b[39m\u001b[38;5;124mverify\u001b[39m\u001b[38;5;124m\"\u001b[39m)\n",
      "\u001b[0;31mTypeError\u001b[0m: __init__() got an unexpected keyword argument 'allowed_methods'"
     ]
    }
   ],
   "source": [
    "symbols = ['SWBI','U','ZM','ITOS']\n",
    "\n",
    "# for symbol in symbols:\n",
    "# Output \n",
    "symbols = 'fb aapl amzn nflx goog'\n",
    "\n",
    "tickers = Ticker(symbols)\n",
    "current_time = datetime.now()"
   ]
  },
  {
   "cell_type": "markdown",
   "id": "4bae3b1e",
   "metadata": {},
   "source": [
    "# Debugging specific yahooquery calls"
   ]
  },
  {
   "cell_type": "code",
   "execution_count": 5,
   "id": "48205e67",
   "metadata": {},
   "outputs": [
    {
     "ename": "ModuleNotFoundError",
     "evalue": "No module named 'tickers'",
     "output_type": "error",
     "traceback": [
      "\u001b[0;31m---------------------------------------------------------------------------\u001b[0m",
      "\u001b[0;31mModuleNotFoundError\u001b[0m                       Traceback (most recent call last)",
      "Cell \u001b[0;32mIn [5], line 2\u001b[0m\n\u001b[1;32m      1\u001b[0m \u001b[38;5;28;01mfrom\u001b[39;00m \u001b[38;5;21;01mdatetime\u001b[39;00m \u001b[38;5;28;01mimport\u001b[39;00m timedelta\n\u001b[0;32m----> 2\u001b[0m \u001b[38;5;28;01mfrom\u001b[39;00m \u001b[38;5;21;01mPyDeepValue\u001b[39;00m \u001b[38;5;28;01mimport\u001b[39;00m companyinfo, DeepValue\n\u001b[1;32m      4\u001b[0m dv \u001b[38;5;241m=\u001b[39m DeepValue()\n\u001b[1;32m      6\u001b[0m symbol \u001b[38;5;241m=\u001b[39m \u001b[38;5;124m\"\u001b[39m\u001b[38;5;124mGTXAP\u001b[39m\u001b[38;5;124m\"\u001b[39m\n",
      "File \u001b[0;32m~/PyDeepValue/PyDeepValue/DeepValue.py:13\u001b[0m\n\u001b[1;32m     10\u001b[0m \u001b[38;5;28;01mimport\u001b[39;00m \u001b[38;5;21;01msys\u001b[39;00m\n\u001b[1;32m     11\u001b[0m \u001b[38;5;28;01mimport\u001b[39;00m \u001b[38;5;21;01mgetopt\u001b[39;00m\n\u001b[0;32m---> 13\u001b[0m \u001b[38;5;28;01mimport\u001b[39;00m \u001b[38;5;21;01mtickers\u001b[39;00m\n\u001b[1;32m     14\u001b[0m \u001b[38;5;28;01mimport\u001b[39;00m \u001b[38;5;21;01mcompanyinfo\u001b[39;00m\n\u001b[1;32m     15\u001b[0m \u001b[38;5;28;01mimport\u001b[39;00m \u001b[38;5;21;01muniverse\u001b[39;00m\n",
      "\u001b[0;31mModuleNotFoundError\u001b[0m: No module named 'tickers'"
     ]
    }
   ],
   "source": [
    "from datetime import timedelta\n",
    "from PyDeepValue import companyinfo, DeepValue\n",
    "\n",
    "dv = DeepValue()\n",
    "\n",
    "symbol = \"GTXAP\"\n",
    "\n",
    "company_data_dir = \"./data/company_info\"\n",
    "\n",
    "company_dict = companyinfo.getCompanyData(str(symbol),dv.company_data_dir,dv.ticker_blacklist_path)\n",
    "\n",
    "universe_df.at[symbol,'description'] = company_dict[symbol]['quoteType']['longName']\n",
    "universe_df.at[symbol,'sector'] = company_dict[symbol]['assetProfile']['sector']\n",
    "universe_df.at[symbol,'industry'] = company_dict[symbol]['assetProfile']['industry']\n",
    "universe_df.at[symbol,'marketCap'] = company_dict[symbol]['summaryDetail']['marketCap']\n",
    "universe_df.at[symbol,'enterpriseValue'] = company_dict[symbol]['defaultKeyStatistics']['enterpriseValue']"
   ]
  },
  {
   "cell_type": "markdown",
   "id": "71c0d252",
   "metadata": {},
   "source": [
    "# Test the spreadsheet generation and evaluation func"
   ]
  },
  {
   "cell_type": "code",
   "execution_count": 4,
   "id": "00078307",
   "metadata": {},
   "outputs": [
    {
     "ename": "FileNotFoundError",
     "evalue": "[Errno 2] No such file or directory: '../data/key.json'",
     "output_type": "error",
     "traceback": [
      "\u001b[0;31m---------------------------------------------------------------------------\u001b[0m",
      "\u001b[0;31mFileNotFoundError\u001b[0m                         Traceback (most recent call last)",
      "\u001b[0;32m<ipython-input-4-8a66375d81c6>\u001b[0m in \u001b[0;36m<module>\u001b[0;34m\u001b[0m\n\u001b[0;32m----> 1\u001b[0;31m \u001b[0;32mfrom\u001b[0m \u001b[0mPyDeepValue\u001b[0m \u001b[0;32mimport\u001b[0m \u001b[0mDeepValue\u001b[0m\u001b[0;34m\u001b[0m\u001b[0;34m\u001b[0m\u001b[0m\n\u001b[0m",
      "\u001b[0;32m~/PyDeepValue/PyDeepValue/DeepValue.py\u001b[0m in \u001b[0;36m<module>\u001b[0;34m\u001b[0m\n\u001b[1;32m    486\u001b[0m \u001b[0;34m\u001b[0m\u001b[0m\n\u001b[1;32m    487\u001b[0m \u001b[0;31m# Initialize DV object\u001b[0m\u001b[0;34m\u001b[0m\u001b[0;34m\u001b[0m\u001b[0;34m\u001b[0m\u001b[0m\n\u001b[0;32m--> 488\u001b[0;31m \u001b[0mdv\u001b[0m \u001b[0;34m=\u001b[0m \u001b[0mDeepValue\u001b[0m\u001b[0;34m(\u001b[0m\u001b[0;34m)\u001b[0m\u001b[0;34m\u001b[0m\u001b[0;34m\u001b[0m\u001b[0m\n\u001b[0m\u001b[1;32m    489\u001b[0m \u001b[0;34m\u001b[0m\u001b[0m\n\u001b[1;32m    490\u001b[0m \u001b[0;31m# Retrieve all tickers\u001b[0m\u001b[0;34m\u001b[0m\u001b[0;34m\u001b[0m\u001b[0;34m\u001b[0m\u001b[0m\n",
      "\u001b[0;32m~/PyDeepValue/PyDeepValue/DeepValue.py\u001b[0m in \u001b[0;36m__init__\u001b[0;34m(self, data_dir)\u001b[0m\n\u001b[1;32m     14\u001b[0m \u001b[0;34m\u001b[0m\u001b[0m\n\u001b[1;32m     15\u001b[0m         \u001b[0;31m# Get TD Ameritrade consumer API key from .json file\u001b[0m\u001b[0;34m\u001b[0m\u001b[0;34m\u001b[0m\u001b[0;34m\u001b[0m\u001b[0m\n\u001b[0;32m---> 16\u001b[0;31m         \u001b[0mself\u001b[0m\u001b[0;34m.\u001b[0m\u001b[0mkey\u001b[0m \u001b[0;34m=\u001b[0m \u001b[0mjson\u001b[0m\u001b[0;34m.\u001b[0m\u001b[0mload\u001b[0m\u001b[0;34m(\u001b[0m\u001b[0mopen\u001b[0m\u001b[0;34m(\u001b[0m\u001b[0mdata_dir\u001b[0m\u001b[0;34m+\u001b[0m\u001b[0;34m'key.json'\u001b[0m\u001b[0;34m)\u001b[0m\u001b[0;34m)\u001b[0m\u001b[0;34m\u001b[0m\u001b[0;34m\u001b[0m\u001b[0m\n\u001b[0m\u001b[1;32m     17\u001b[0m \u001b[0;34m\u001b[0m\u001b[0m\n\u001b[1;32m     18\u001b[0m         \u001b[0;31m# Define company data directory\u001b[0m\u001b[0;34m\u001b[0m\u001b[0;34m\u001b[0m\u001b[0;34m\u001b[0m\u001b[0m\n",
      "\u001b[0;31mFileNotFoundError\u001b[0m: [Errno 2] No such file or directory: '../data/key.json'"
     ]
    }
   ],
   "source": [
    "from PyDeepValue import DeepValue\n"
   ]
  },
  {
   "cell_type": "code",
   "execution_count": 3,
   "id": "80b53ae4",
   "metadata": {},
   "outputs": [
    {
     "name": "stdout",
     "output_type": "stream",
     "text": [
      "0.21750009131752931\n",
      "299915.0 minutes to go\n"
     ]
    }
   ],
   "source": [
    "import json\n",
    "\n",
    "progress = 11909\n",
    "\n",
    "value_tickers_list = json.load(open('data/value_tickers.json'))\n",
    "print(progress/(len(value_tickers_list)*7))\n",
    "\n",
    "minutes_per_file = (1/7)\n",
    "\n",
    "print(str((len(value_tickers_list)*7 - progress)/minutes_per_file) + ' minutes to go')"
   ]
  },
  {
   "cell_type": "code",
   "execution_count": 7,
   "id": "bd8a024f",
   "metadata": {},
   "outputs": [
    {
     "name": "stdout",
     "output_type": "stream",
     "text": [
      "A\n",
      "Empty DataFrame\n",
      "Columns: [Open, High, Low, Close, Adj Close, Volume]\n",
      "Index: []\n",
      "B\n",
      "Empty DataFrame\n",
      "Columns: [Open, High, Low, Close, Adj Close, Volume]\n",
      "Index: []\n",
      "C\n",
      "Empty DataFrame\n",
      "Columns: [Open, High, Low, Close, Adj Close, Volume]\n",
      "Index: []\n",
      "D\n",
      "Empty DataFrame\n",
      "Columns: [Open, High, Low, Close, Adj Close, Volume]\n",
      "Index: []\n",
      "E\n",
      "Empty DataFrame\n",
      "Columns: [Open, High, Low, Close, Adj Close, Volume]\n",
      "Index: []\n"
     ]
    }
   ],
   "source": [
    "import yfinance as yf\n",
    "from datetime import datetime\n",
    "\n",
    "# Get all the data\n",
    "\n",
    "\n",
    "value_tickers_list = ['A','B','C','D','E']\n",
    "\n",
    "for symbol in value_tickers_list:\n",
    "    print(symbol)\n",
    "    ticker = yf.Ticker(symbol)\n",
    "    company_data_filepath = 'data/company_data/' + str(ticker) + '.json'\n",
    "    \n",
    "    # Get current datetime\n",
    "    current_time = datetime.now()\n",
    "    \n",
    "#     print(ticker.info)\n",
    "    print(ticker.get_financials())\n"
   ]
  }
 ],
 "metadata": {
  "kernelspec": {
   "display_name": "Python 3 (ipykernel)",
   "language": "python",
   "name": "python3"
  },
  "language_info": {
   "codemirror_mode": {
    "name": "ipython",
    "version": 3
   },
   "file_extension": ".py",
   "mimetype": "text/x-python",
   "name": "python",
   "nbconvert_exporter": "python",
   "pygments_lexer": "ipython3",
   "version": "3.8.10"
  }
 },
 "nbformat": 4,
 "nbformat_minor": 5
}
