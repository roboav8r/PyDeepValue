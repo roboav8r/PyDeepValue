{
 "cells": [
  {
   "cell_type": "markdown",
   "id": "f57fcda2",
   "metadata": {},
   "source": [
    "# Intrinsic Valuation Functions"
   ]
  },
  {
   "cell_type": "code",
   "execution_count": 44,
   "id": "ebc42f26",
   "metadata": {},
   "outputs": [],
   "source": [
    "def country_def_spread(country):\n",
    "    if country=='USA':\n",
    "        return 0.0\n",
    "    \n",
    "def govt_bond_rate(country, currency):\n",
    "    if country=='USA':\n",
    "        if currency=='USD':\n",
    "            return .0357\n",
    "\n",
    "# Long term cost to borrow?\n",
    "def pre_tax_rate(country):\n",
    "    if country=='test':\n",
    "        return .1\n",
    "        \n",
    "def tax_rate(country):\n",
    "    if country=='test':\n",
    "        return .5\n",
    "    \n",
    "def cod(country):\n",
    "    return pre_tax_rate(country)*(1 - tax_rate(country))\n",
    "    \n",
    "def wacc(mkt_equity, coe, mkt_debt, codebt):\n",
    "    return coe*mkt_equity/(mkt_equity + mkt_debt) + codebt*mkt_debt/(mkt_equity + mkt_debt)\n",
    "    \n",
    "    \n",
    "def dcf(rate,flow,term_val):\n",
    "    if len(rate)!=len(flow):\n",
    "        raise Exception(\"Cash flows and rates must be same length\")\n",
    "    \n",
    "    # Initialize value, add cash flows, add terminal value\n",
    "    value=0\n",
    "    for i,cf in enumerate(flow):\n",
    "        value += flow[i]/(1 + rate[i])**(i+1)\n",
    "    value += term_val/(1 + rate[len(flow)-1])**(len(flow))\n",
    "    \n",
    "    return value"
   ]
  },
  {
   "cell_type": "markdown",
   "id": "9ed13e1d",
   "metadata": {},
   "source": [
    "# Country and Currency Parameters"
   ]
  },
  {
   "cell_type": "code",
   "execution_count": 31,
   "id": "35b23d5b",
   "metadata": {},
   "outputs": [],
   "source": [
    "country = 'USA'\n",
    "currency = 'USD'"
   ]
  },
  {
   "cell_type": "markdown",
   "id": "b78adc33",
   "metadata": {},
   "source": [
    "# Company Data"
   ]
  },
  {
   "cell_type": "code",
   "execution_count": 54,
   "id": "712b6977",
   "metadata": {},
   "outputs": [],
   "source": [
    "# https://pages.stern.nyu.edu/~adamodar/pdfiles/eqnotes/valpacket1spr23.pdf\n",
    "# Slides 8-10\n",
    "\n",
    "# Equity test case - cost of equity, CF to equity, equity terminal value\n",
    "test_coe = .13625\n",
    "test_coeq = [test_coe, test_coe, test_coe, test_coe, test_coe]\n",
    "test_eq_flow = [50,60,68,76.2,83.49]\n",
    "test_eq_tv = 1603.0\n",
    "test_eq_val = dcf(test_coeq,test_eq_flow,test_eq_tv)\n",
    "\n",
    "# Firm case - cost of capital, CF to firm, firm terminal value\n",
    "test_mkt_debt = 800\n",
    "test_cod = cod('test')\n",
    "test_coc = wacc(test_eq_val, test_coe, test_mkt_debt, test_cod)\n",
    "test_cocap = [test_coc, test_coc, test_coc, test_coc, test_coc]\n",
    "test_firm_flow = [90,100,108,116.2,123.49]\n",
    "test_firm_tv = 2363.008\n",
    "test_firm_val = dcf(test_cocap,test_firm_flow,test_firm_tv)"
   ]
  },
  {
   "cell_type": "markdown",
   "id": "4ce9c2ca",
   "metadata": {},
   "source": [
    "# Value Calculations"
   ]
  },
  {
   "cell_type": "code",
   "execution_count": 55,
   "id": "69ba2d7d",
   "metadata": {},
   "outputs": [
    {
     "name": "stdout",
     "output_type": "stream",
     "text": [
      "1073.0065063585455\n",
      "1873.4651511854781\n"
     ]
    }
   ],
   "source": [
    "print(test_eq_val)\n",
    "print(test_firm_val)"
   ]
  },
  {
   "cell_type": "code",
   "execution_count": null,
   "id": "c1aec2f2",
   "metadata": {},
   "outputs": [],
   "source": []
  }
 ],
 "metadata": {
  "kernelspec": {
   "display_name": "Python 3 (ipykernel)",
   "language": "python",
   "name": "python3"
  },
  "language_info": {
   "codemirror_mode": {
    "name": "ipython",
    "version": 3
   },
   "file_extension": ".py",
   "mimetype": "text/x-python",
   "name": "python",
   "nbconvert_exporter": "python",
   "pygments_lexer": "ipython3",
   "version": "3.9.13"
  }
 },
 "nbformat": 4,
 "nbformat_minor": 5
}
