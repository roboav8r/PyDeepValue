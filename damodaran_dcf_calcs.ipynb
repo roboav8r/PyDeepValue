{
 "cells": [
  {
   "cell_type": "markdown",
   "id": "a9efc446",
   "metadata": {},
   "source": [
    "# Intrinsic Valuation Functions"
   ]
  },
  {
   "cell_type": "code",
   "execution_count": 72,
   "id": "0d4c1eaf",
   "metadata": {},
   "outputs": [],
   "source": [
    "# https://pages.stern.nyu.edu/~adamodar/New_Home_Page/datafile/ctryprem.html\n",
    "def country_def_spread(country):\n",
    "    # AKA bond default spread\n",
    "    #\n",
    "    # Three ways\n",
    "    # 1) government bonds \n",
    "    # def_spread = sov bond rate ('currency') - rfr('currency')\n",
    "    # USD bond rate - USD riskfree rate = def spread\n",
    "    # poland: .0468 - .0388 = .008\n",
    "    # 2) find CDS for sovereign emerging government\n",
    "    # US CDS = .0032\n",
    "    # poland CDS = .0146\n",
    "    # poland CDS net of US = .0113\n",
    "    # 3) Lookup def spread based on rating\n",
    "    if country=='USA':\n",
    "        return 0.0\n",
    "    if country=='Brazil':\n",
    "        return 0.0368\n",
    "    if country=='Germany':\n",
    "        return 0.0\n",
    "    if country=='Japan':\n",
    "        return 0.0086\n",
    "    if country=='Brazil Test':\n",
    "        return .0368\n",
    "    \n",
    "# http://www.worldgovernmentbonds.com/country/\n",
    "def govt_bond_rate(country):\n",
    "    if country=='USA':\n",
    "        return 0.03568\n",
    "    if country=='Brazil':\n",
    "        return 0.12604\n",
    "    if country=='Germany':\n",
    "        return 0.02481\n",
    "    if country=='Japan':\n",
    "        return 0.00461\n",
    "    if country=='Brazil Test':\n",
    "        return 0.1276\n",
    "    \n",
    "def risk_free_rate(country):\n",
    "    return govt_bond_rate(country) - country_def_spread(country)\n",
    "\n",
    "def relative_eq_mkt_vol(country):\n",
    "    if country=='Brazil Test':\n",
    "        stdev_index = .3\n",
    "        stdev_bonds = .2\n",
    "    \n",
    "    return stdev_index/stdev_bonds\n",
    "\n",
    "def country_risk_premium(country):\n",
    "    return country_def_spread(country)*relative_eq_mkt_vol(country)\n",
    "\n",
    "def mature_market_premium():\n",
    "    # TODO compute/get IERP\n",
    "    return .0594\n",
    "    \n",
    "# https://pages.stern.nyu.edu/~adamodar/New_Home_Page/datafile/ctryprem.html\n",
    "def country_equity_risk_premium(country):\n",
    "    # TODO can also just look this up, but only updated annually\n",
    "    return mature_market_premium() + country_risk_premium(country)\n",
    "\n",
    "# TODO - return to slide 54\n",
    "\n",
    "# def beta(company)\n",
    "\n",
    "# def erp('market')\n",
    "\n",
    "# Slide 24\n",
    "# def coe(rfr,beta,erp):\n",
    "#     return rfr + beta*erp\n",
    "\n",
    "\n",
    "# Long term cost to borrow?\n",
    "def pre_tax_rate(country):\n",
    "    if country=='test':\n",
    "        return .1\n",
    "        \n",
    "def tax_rate(country):\n",
    "    if country=='test':\n",
    "        return .5\n",
    "    \n",
    "def cod(country):\n",
    "    return pre_tax_rate(country)*(1 - tax_rate(country))\n",
    "    \n",
    "def wacc(mkt_equity, coe, mkt_debt, codebt):\n",
    "    return coe*mkt_equity/(mkt_equity + mkt_debt) + codebt*mkt_debt/(mkt_equity + mkt_debt)\n",
    "    \n",
    "    \n",
    "def dcf(rate,flow,term_val):\n",
    "    if len(rate)!=len(flow):\n",
    "        raise Exception(\"Cash flows and rates must be same length\")\n",
    "    \n",
    "    # Initialize value, add cash flows, add terminal value\n",
    "    value=0\n",
    "    for i,cf in enumerate(flow):\n",
    "        value += flow[i]/(1 + rate[i])**(i+1)\n",
    "    value += term_val/(1 + rate[len(flow)-1])**(len(flow))\n",
    "    \n",
    "    return value"
   ]
  },
  {
   "cell_type": "markdown",
   "id": "8bdd46ba",
   "metadata": {},
   "source": [
    "# Country and Currency Parameters"
   ]
  },
  {
   "cell_type": "code",
   "execution_count": 31,
   "id": "7dceec76",
   "metadata": {},
   "outputs": [],
   "source": [
    "country = 'USA'\n",
    "currency = 'USD'"
   ]
  },
  {
   "cell_type": "markdown",
   "id": "018c82d3",
   "metadata": {},
   "source": [
    "# Company Data"
   ]
  },
  {
   "cell_type": "code",
   "execution_count": 67,
   "id": "fe8599d7",
   "metadata": {},
   "outputs": [],
   "source": [
    "# https://pages.stern.nyu.edu/~adamodar/pdfiles/eqnotes/valpacket1spr23.pdf\n",
    "# Slides 8-10\n",
    "\n",
    "# Equity test case - cost of equity, CF to equity, equity terminal value\n",
    "test_coe = .13625\n",
    "test_coeq = [test_coe, test_coe, test_coe, test_coe, test_coe]\n",
    "test_eq_flow = [50,60,68,76.2,83.49]\n",
    "test_eq_tv = 1603.0\n",
    "test_eq_val = dcf(test_coeq,test_eq_flow,test_eq_tv)\n",
    "\n",
    "# Firm case - cost of capital, CF to firm, firm terminal value\n",
    "test_mkt_debt = 800\n",
    "test_cod = cod('test')\n",
    "test_coc = wacc(test_eq_val, test_coe, test_mkt_debt, test_cod)\n",
    "test_cocap = [test_coc, test_coc, test_coc, test_coc, test_coc]\n",
    "test_firm_flow = [90,100,108,116.2,123.49]\n",
    "test_firm_tv = 2363.008\n",
    "test_firm_val = dcf(test_cocap,test_firm_flow,test_firm_tv)"
   ]
  },
  {
   "cell_type": "markdown",
   "id": "c61602bc",
   "metadata": {},
   "source": [
    "# Value Calculations"
   ]
  },
  {
   "cell_type": "code",
   "execution_count": 73,
   "id": "aa8376ef",
   "metadata": {},
   "outputs": [
    {
     "name": "stdout",
     "output_type": "stream",
     "text": [
      "1073.0065063585455\n",
      "1873.4651511854781\n",
      "0.09079999999999999\n",
      "0.1146\n"
     ]
    }
   ],
   "source": [
    "print(test_eq_val)\n",
    "print(test_firm_val)\n",
    "print(risk_free_rate('Brazil Test'))\n",
    "\n",
    "print(country_equity_risk_premium('Brazil Test'))"
   ]
  },
  {
   "cell_type": "code",
   "execution_count": null,
   "id": "3c066d0f",
   "metadata": {},
   "outputs": [],
   "source": []
  }
 ],
 "metadata": {
  "kernelspec": {
   "display_name": "Python 3 (ipykernel)",
   "language": "python",
   "name": "python3"
  },
  "language_info": {
   "codemirror_mode": {
    "name": "ipython",
    "version": 3
   },
   "file_extension": ".py",
   "mimetype": "text/x-python",
   "name": "python",
   "nbconvert_exporter": "python",
   "pygments_lexer": "ipython3",
   "version": "3.9.13"
  }
 },
 "nbformat": 4,
 "nbformat_minor": 5
}
